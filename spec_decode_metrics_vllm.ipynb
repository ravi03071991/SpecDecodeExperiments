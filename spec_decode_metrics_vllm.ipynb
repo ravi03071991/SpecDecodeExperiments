{
 "cells": [
  {
   "cell_type": "markdown",
   "metadata": {},
   "source": [
    "# Speculative decoding metrics using vLLM\n",
    "\n",
    "This notebook provides code walkthrough of getting speculative decoding draft acceptance rate metric using vLLM."
   ]
  },
  {
   "cell_type": "markdown",
   "metadata": {},
   "source": [
    "### We need to first serve verifier and draft models "
   ]
  },
  {
   "cell_type": "code",
   "execution_count": null,
   "metadata": {},
   "outputs": [],
   "source": [
    "python -m vllm.entrypoints.openai.api_server --host 0.0.0.0 --port 8000 --model \"Qwen/Qwen2.5-1.5B-Instruct\" \\\n",
    "    --seed 42 -tp 1 --gpu_memory_utilization 0.8 \\\n",
    "    --speculative_model \"Qwen/Qwen2.5-0.5B-Instruct\" \\\n",
    "    --num_speculative_tokens 5"
   ]
  },
  {
   "cell_type": "markdown",
   "metadata": {},
   "source": [
    "### Then we need to use OpenAI client for generation and get corresponding metrics"
   ]
  },
  {
   "cell_type": "code",
   "execution_count": 1,
   "metadata": {},
   "outputs": [],
   "source": [
    "from openai import OpenAI\n",
    "\n",
    "def generate_from_serve(prompt):\n",
    "  # Modify OpenAI's API key and API base to use vLLM's API server.\n",
    "  openai_api_key = \"EMPTY\"\n",
    "  openai_api_base = \"http://localhost:8000/v1\"\n",
    "\n",
    "  # Initialize the OpenAI client with the provided API key and base URL.\n",
    "  client = OpenAI(\n",
    "      api_key=openai_api_key,\n",
    "      base_url=openai_api_base,\n",
    "  )\n",
    "\n",
    "  # List available models and select the first one.\n",
    "  models = client.models.list()\n",
    "  model = models.data[0].id  \n",
    "\n",
    "  try:\n",
    "      # Create a completion using the selected model.\n",
    "      completion = client.completions.create(\n",
    "          model=model,\n",
    "          prompt=prompt,\n",
    "          echo=False,\n",
    "          n=1,\n",
    "          stream=False,\n",
    "      )\n",
    "\n",
    "      # Print the completion results.\n",
    "      print(\"Completion results:\")\n",
    "      print(completion.choices[0].text)\n",
    "  except Exception as e:\n",
    "      print(f\"An error occurred: {e}\")"
   ]
  },
  {
   "cell_type": "markdown",
   "metadata": {},
   "source": [
    "### Functions to get and parse metrics"
   ]
  },
  {
   "cell_type": "code",
   "execution_count": 2,
   "metadata": {},
   "outputs": [],
   "source": [
    "import requests \n",
    "\n",
    "def get_metrics(url=\"http://0.0.0.0:8000/metrics\"):\n",
    "    try:\n",
    "        response = requests.get(url)\n",
    "        response.raise_for_status()\n",
    "        metrics = response.text\n",
    "        return metrics\n",
    "    except requests.exceptions.RequestException as e:\n",
    "        print(f\"Error fetching metrics: {e}\")\n",
    "        return None\n",
    "\n",
    "def parse_draft_acceptance_rate(metrics):\n",
    "    metric = -1\n",
    "    if metrics:\n",
    "        for line in metrics.splitlines():\n",
    "            if line.startswith(\"vllm:spec_decode_draft_acceptance_rate\"):\n",
    "                print(\"------------------------SPEC DECODE DRAFT ACCEPTANCE RATE--------------------\")\n",
    "                print(line)\n",
    "                print(\"-----------------------------------------------------------------------------\")\n",
    "                metric = float(line.split()[-1])\n",
    "    else:\n",
    "        print(\"No metrics to parse\")\n",
    "\n",
    "    return metric"
   ]
  },
  {
   "cell_type": "markdown",
   "metadata": {},
   "source": [
    "### Test"
   ]
  },
  {
   "cell_type": "code",
   "execution_count": 4,
   "metadata": {},
   "outputs": [
    {
     "name": "stdout",
     "output_type": "stream",
     "text": [
      "Completion results:\n",
      " uncertain, and there are many different views on the topic. Some people\n",
      "------------------------SPEC DECODE DRAFT ACCEPTANCE RATE--------------------\n",
      "vllm:spec_decode_draft_acceptance_rate{model_name=\"Qwen/Qwen2.5-1.5B-Instruct\"} 0.7142857142857143\n",
      "-----------------------------------------------------------------------------\n",
      "Draft acceptance rate is: 0.7142857142857143\n"
     ]
    }
   ],
   "source": [
    "# Define the prompt\n",
    "prompt = \"The future of AI is very \"\n",
    "\n",
    "# complete the generation for the prompt\n",
    "generate_from_serve(prompt)\n",
    "\n",
    "# Get and parse metrics\n",
    "metrics = get_metrics()\n",
    "draft_acceptance_rate = parse_draft_acceptance_rate(metrics)\n",
    "\n",
    "print(f\"Draft acceptance rate is: {draft_acceptance_rate}\")"
   ]
  },
  {
   "cell_type": "code",
   "execution_count": null,
   "metadata": {},
   "outputs": [],
   "source": []
  }
 ],
 "metadata": {
  "kernelspec": {
   "display_name": "Python 3 (ipykernel)",
   "language": "python",
   "name": "python3"
  },
  "language_info": {
   "codemirror_mode": {
    "name": "ipython",
    "version": 3
   },
   "file_extension": ".py",
   "mimetype": "text/x-python",
   "name": "python",
   "nbconvert_exporter": "python",
   "pygments_lexer": "ipython3",
   "version": "3.10.12"
  }
 },
 "nbformat": 4,
 "nbformat_minor": 4
}
